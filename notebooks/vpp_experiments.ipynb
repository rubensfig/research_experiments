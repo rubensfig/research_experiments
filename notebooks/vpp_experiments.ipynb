{
 "cells": [
  {
   "cell_type": "code",
   "execution_count": 1,
   "id": "45c90f09",
   "metadata": {},
   "outputs": [],
   "source": [
    "import warnings\n",
    "warnings.simplefilter(action='ignore', category=FutureWarning)\n",
    "warnings.simplefilter(action='ignore', category=UserWarning)\n",
    "\n",
    "import pandas as pd\n",
    "import matplotlib.pyplot as plt\n",
    "import matplotlib as mat\n",
    "import os\n",
    "import seaborn as sns\n",
    "import numpy as np\n",
    "import matplotlib.ticker as mticker\n",
    "import ast\n",
    "import json"
   ]
  },
  {
   "cell_type": "code",
   "execution_count": 2,
   "id": "2aab9140",
   "metadata": {},
   "outputs": [],
   "source": [
    "%config IPCompleter.greedy=True\n",
    "%matplotlib notebook\n",
    "%matplotlib inline\n",
    "plt.rcParams[\"figure.figsize\"] = [15, 10]"
   ]
  },
  {
   "cell_type": "code",
   "execution_count": 24,
   "id": "8dd7a5ac",
   "metadata": {
    "code_folding": []
   },
   "outputs": [],
   "source": [
    "output_dir = \"../output/vpp-rate\"\n",
    "\n",
    "measurements = list()\n",
    "\n",
    "for direc, sub_direc, files in os.walk(output_dir):\n",
    "    \n",
    "    if files == []:\n",
    "        continue\n",
    "        \n",
    "    if 'old' in direc:\n",
    "        continue\n",
    "            \n",
    "    for file in files:\n",
    "        label, flows, repeat = direc.replace(output_dir, '').split('/')\n",
    "        \n",
    "        if 'vpp' in file:\n",
    "            with open(direc + '/' + file, \"r\") as f:\n",
    "                for line in f.readlines():\n",
    "                    p = line.strip().split()\n",
    "                    if '/interfaces/dev0/rx-miss' in p[-1] and '0' in p[2] and '0' in p[0]:\n",
    "                        misses = int(p[3])\n",
    "\n",
    "                    if len(p) > 2 and  '/err/dev1-tx/Tx' in p[2] and '[@2]' in p[0]:\n",
    "                        drops = int(p[1])\n",
    "\n",
    "                \n",
    "        if 'p4tg' in file:\n",
    "            with open(direc + '/' + file, \"r\") as f:\n",
    "                contents = f.read().replace(\"\\n\", \"\").replace(\"\\'\", \"\\\"\")\n",
    "                try:\n",
    "                    t = ast.literal_eval(contents)\n",
    "                except SyntaxError:\n",
    "                    #print(direc + '/' + files[0])\n",
    "                    continue\n",
    "\n",
    "            app1 = t['app_rx_l2']['288']['1']\n",
    "            app2 = t['app_rx_l2']['288']['2']\n",
    "            \n",
    "    measurements.append(\n",
    "    {\n",
    "        'total_rx_L1': t['rx_rate_l1']['288'],\n",
    "        'total_tx_L1': int(t['tx_rate_l1']['288']/1000000000),\n",
    "        'stream': 1,\n",
    "        'rx_l2': app1/1000000,\n",
    "        'flows': float(flows),\n",
    "    })\n",
    "    measurements.append(\n",
    "    {\n",
    "        'total_rx_L1': t['rx_rate_l1']['288'],\n",
    "        'total_tx_L1': int(t['tx_rate_l1']['288']/1000000000),\n",
    "        'stream': 2,\n",
    "        'rx_l2': app2/1000000,\n",
    "        'misses': misses,\n",
    "        'drops': drops,\n",
    "        'flows': float(flows),\n",
    "    })\n",
    "\n",
    "measurements_df = pd.DataFrame(measurements)"
   ]
  },
  {
   "cell_type": "code",
   "execution_count": 27,
   "id": "6e538e60",
   "metadata": {},
   "outputs": [
    {
     "data": {
      "image/png": "[encoded data removed]",
      "text/plain": [
       "<Figure size 1296x432 with 3 Axes>"
      ]
     },
     "metadata": {
      "needs_background": "light"
     },
     "output_type": "display_data"
    }
   ],
   "source": [
    "%matplotlib inline\n",
    "fig, (ax1, ax2, ax3) = plt.subplots(nrows=1, ncols=3, figsize=(18, 6))\n",
    "\n",
    "sns.lineplot(\n",
    "    data = measurements_df,\n",
    "    x = 'total_tx_L1',\n",
    "    y = 'rx_l2',\n",
    "    hue = 'stream',\n",
    "    ax = ax1,\n",
    "    palette = 'colorblind',\n",
    "    linestyle = '--',\n",
    "    ci = 'sd',\n",
    "    err_style = 'bars'\n",
    ")\n",
    "\n",
    "ax1.set(\n",
    "    ylabel = 'Rx L2 (Mpps)',\n",
    "    xlabel = 'Input load (Gbps)'\n",
    ")\n",
    "\n",
    "sns.pointplot(    \n",
    "    data = measurements_df.dropna(),\n",
    "    x = 'total_tx_L1',\n",
    "    y = 'misses',\n",
    "    #hue = 'stream',\n",
    "    ax = ax2,\n",
    "    #palette = 'colorblind',\n",
    "    linestyle = '--',\n",
    "    join = False, \n",
    "    ci = 'sd',\n",
    "    err_style = 'bars',\n",
    ")\n",
    "\n",
    "ax2.set(\n",
    "    ylabel = 'Rx Misses',\n",
    "    xlabel = 'Input load (Gbps)'\n",
    ")\n",
    "\n",
    "sns.pointplot(    \n",
    "    data = measurements_df.dropna(),\n",
    "    x = 'total_tx_L1',\n",
    "    y = 'drops',\n",
    "    #hue = 'stream',\n",
    "    ax = ax3,\n",
    "    #palette = 'colorblind',\n",
    "    linestyle = '--',\n",
    "    join = False, \n",
    "    ci = 'sd',\n",
    "    err_style = 'bars',\n",
    ")\n",
    "\n",
    "ax3.set(\n",
    "    ylabel = 'Tx drops',\n",
    "    xlabel = 'Input load (Gbps)'\n",
    ")\n",
    "\n",
    "sns.despine()"
   ]
  },
  {
   "cell_type": "markdown",
   "id": "83a48008",
   "metadata": {},
   "source": [
    "The maximum error free input rate is ~5 Gbps.\n",
    "\n",
    "Test 1.1 - How many flows/ sessions does the DPDK QoS support, while targeting a maximum load of 5 Gbps?"
   ]
  },
  {
   "cell_type": "code",
   "execution_count": null,
   "id": "3eb3d806-04d3-4845-a367-7cf1512c7298",
   "metadata": {},
   "outputs": [],
   "source": []
  }
 ],
 "metadata": {
  "hide_input": false,
  "kernelspec": {
   "display_name": "Python 3 (ipykernel)",
   "language": "python",
   "name": "python3"
  },
  "language_info": {
   "codemirror_mode": {
    "name": "ipython",
    "version": 3
   },
   "file_extension": ".py",
   "mimetype": "text/x-python",
   "name": "python",
   "nbconvert_exporter": "python",
   "pygments_lexer": "ipython3",
   "version": "3.10.12"
  },
  "toc": {
   "base_numbering": 1,
   "nav_menu": {},
   "number_sections": true,
   "sideBar": true,
   "skip_h1_title": false,
   "title_cell": "Table of Contents",
   "title_sidebar": "Contents",
   "toc_cell": false,
   "toc_position": {},
   "toc_section_display": true,
   "toc_window_display": false
  },
  "widgets": {
   "application/vnd.jupyter.widget-state+json": {
    "state": {},
    "version_major": 1,
    "version_minor": 0
   }
  }
 },
 "nbformat": 4,
 "nbformat_minor": 5
}
