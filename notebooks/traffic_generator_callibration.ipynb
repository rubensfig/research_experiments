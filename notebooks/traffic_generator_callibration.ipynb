{
 "cells": [
  {
   "cell_type": "code",
   "execution_count": 1,
   "id": "57a8a001",
   "metadata": {},
   "outputs": [],
   "source": [
    "import warnings\n",
    "warnings.simplefilter(action='ignore', category=FutureWarning)\n",
    "warnings.simplefilter(action='ignore', category=UserWarning)\n",
    "\n",
    "import pandas as pd\n",
    "import matplotlib.pyplot as plt\n",
    "import matplotlib as mat\n",
    "import os\n",
    "import seaborn as sns\n",
    "import numpy as np\n",
    "import matplotlib.ticker as mticker"
   ]
  },
  {
   "cell_type": "markdown",
   "id": "f2993d2e",
   "metadata": {},
   "source": [
    "# Trex calibration\n",
    "\n"
   ]
  },
  {
   "cell_type": "markdown",
   "id": "b55abda2",
   "metadata": {},
   "source": [
    "<figure>\n",
    "<img src=\"setup.png\" style=\"width:40%\">\n",
    "<figcaption align = \"center\"><b>Fig.1 - Physical setup</b>\n",
    "</figcaption></figure>"
   ]
  },
  {
   "cell_type": "code",
   "execution_count": 2,
   "id": "a3193348",
   "metadata": {},
   "outputs": [],
   "source": [
    "%config IPCompleter.greedy=True\n",
    "%matplotlib notebook\n",
    "%matplotlib inline\n",
    "plt.rcParams[\"figure.figsize\"] = [15, 10]"
   ]
  },
  {
   "cell_type": "markdown",
   "id": "180bf3db",
   "metadata": {},
   "source": [
    "The following table shows the hardware components.\n",
    "\n",
    "\n",
    "|     |                                 |\n",
    "|-----|---------------------------------|\n",
    "| CPU | Intel Xeon(R) Gold 6238R @ 2.2 GHz|\n",
    "| NIC | ConnectX-5 QSFP28 MCX516A-CCAT  |\n",
    "\n",
    "The following table documents the considered software and firmware versions for the different components.\n",
    "\n",
    "|||\n",
    "|----|---|\n",
    "|OS| Centos 7.9|\n",
    "|Trex|v3.02|\n",
    "|OFED|5.7-1|\n",
    "\n",
    "The following are the boot parameters used to configure the traffic generator.\n",
    "\n",
    "```\n",
    "isolcpus=1-27,29-55 iommu=pt intel_iommu=on default_hugepagesz=2M hugepagesz=2M hugepages=50000 hugepagesz=1G hugepages=4 nohz_full=1-27,29-55 tsc=reliable irqaffinity=0 rcu_nocbs=1-27,29-55 rcu_nocbs_poll idle=poll intel_idle.max_cstate=0 rsc=reliable mce=ignore_ce audit=0 nmi_watchdog=0 skew_tick=1 nosoftlookup rd.auto=1\n",
    "```\n",
    "\n",
    "We have disabled Turbo mode on the CPU, and while doing the test the CPU is running as follows. The following is the output of [power.py](https://github.com/intel/CommsPowerManagement/blob/master/power.py).\n",
    "\n",
    "\n",
    "```\n",
    "==== ================================ == ================\n",
    "                         P-STATE INFO      UNCORE INFO \n",
    "Core    Max    Min    Now    Governor     Max      Min\n",
    "==== ====== ====== ====== =========== ======= ========\n",
    "   1   2200   1000   2199   powersave    2400     1200\n",
    "   2   2200   1000   2200   powersave    2400     1200\n",
    "   3   2200   1000   2200   powersave    2400     1200\n",
    "   4   2200   1000   2200   powersave    2400     1200\n",
    "   5   2200   1000   2200   powersave    2400     1200\n",
    "   6   2200   1000   2200   powersave    2400     1200\n",
    "   7   2200   1000   2200   powersave    2400     1200\n",
    "   8   2200   1000   2200   powersave    2400     1200\n",
    "   9   2200   1000   2200   powersave    2400     1200\n",
    "  10   2200   1000   2199   powersave    2400     1200\n",
    "  11   2200   1000   2200   powersave    2400     1200\n",
    "  12   2200   1000   2200   powersave    2400     1200\n",
    "  13   2200   1000   2200   powersave    2400     1200\n",
    "  14   2200   1000   2199   powersave    2400     1200\n",
    "  15   2200   1000   2200   powersave    2400     1200\n",
    "  16   2200   1000   2200   powersave    2400     1200\n",
    "  17   2200   1000   2200   powersave    2400     1200\n",
    "```\n"
   ]
  },
  {
   "cell_type": "markdown",
   "id": "9e742972",
   "metadata": {},
   "source": [
    "## Results"
   ]
  },
  {
   "cell_type": "code",
   "execution_count": 3,
   "id": "a7839c83",
   "metadata": {
    "code_folding": []
   },
   "outputs": [],
   "source": [
    "output_dir = \"../output/\"\n",
    "\n",
    "measurements = list()\n",
    "\n",
    "for direc, sub_direc, files in os.walk(output_dir):\n",
    "    \n",
    "    if files == []:\n",
    "        continue\n",
    "            \n",
    "    for file in files:\n",
    "        if 'ndr' in file:\n",
    "            t = pd.read_json(direc + '/' + files[0]).to_dict()\n",
    "            \n",
    "            label, flows, repeat = direc.replace(output_dir, '').split('/')\n",
    "\n",
    "            measurements.append(\n",
    "                {\n",
    "                    'cpu_util': t['results']['cpu_util'],\n",
    "                    'rate_tx_bps': t['results']['rate_tx_bps'],\n",
    "                    'rate_rx_bps': t['results']['rate_rx_bps'],\n",
    "                    'rx_pps': t['results']['rx_pps'],\n",
    "                    'tx_pps': t['results']['tx_pps'],\n",
    "                    'total_rx_L1': t['results']['total_rx_L1'],\n",
    "                    'total_tx_L1': t['results']['total_tx_L1'],\n",
    "                    'total_cores': t['config']['total_cores'],\n",
    "                    'bw_per_core': t['results']['bw_per_core'],\n",
    "                    'label': 'ht' if 'ht' in direc else 'non ht',\n",
    "                    'flows': int(flows),\n",
    "                    'repeat': int(repeat)\n",
    "                }\n",
    "            )\n",
    "measurements_df = pd.DataFrame(measurements)"
   ]
  },
  {
   "cell_type": "code",
   "execution_count": 15,
   "id": "54e8e722",
   "metadata": {
    "scrolled": false
   },
   "outputs": [
    {
     "data": {
      "image/png": "[encoded data removed]",
      "text/plain": [
       "<Figure size 864x432 with 1 Axes>"
      ]
     },
     "metadata": {
      "needs_background": "light"
     },
     "output_type": "display_data"
    }
   ],
   "source": [
    "%matplotlib inline\n",
    "fig, ax1 = plt.subplots(nrows=1, ncols=1, figsize=(12, 6))\n",
    "\n",
    "ax1.set_xscale('symlog')\n",
    "sns.pointplot(\n",
    "    data = measurements_df,\n",
    "    x = 'flows',\n",
    "    y = measurements_df['tx_pps']/1000000,\n",
    "    hue = 'total_cores',\n",
    "    #style = 'label',\n",
    "    #join=False,\n",
    "    ax = ax1,\n",
    "    palette = 'colorblind',\n",
    ")\n",
    "\n",
    "ax1.set(\n",
    "    ylim = [0, 110],\n",
    "    #xlim = [-1, 20000],\n",
    "    ylabel = 'CPU utilization (%)',\n",
    "    xlabel = 'Flows'\n",
    "       )\n",
    "\n",
    "locmin = mticker.LogLocator(base=10, subs=np.arange(0.1,1,0.1), numticks=10)  \n",
    "ax1.xaxis.set_minor_locator(locmin)\n",
    "\n",
    "ax1.set(\n",
    "    ylim = [0, 200],\n",
    "    # xticks = [x for x in np.logspace(0, 14, 15, base=2)],\n",
    "    ylabel = 'Tx NDR (Mpps)',\n",
    "    xlabel = 'Flows'\n",
    "\n",
    ")\n",
    "\n",
    "ax1.axhline(100000000000/(64*8)/1000000, color = 'black', )\n",
    "locmin = mticker.LogLocator(base=10, subs=np.arange(0.1,1,0.1), numticks=10)  \n",
    "ax1.xaxis.set_minor_locator(locmin)\n",
    "\n",
    "#fig.autofmt_xdate()\n",
    "sns.despine()"
   ]
  },
  {
   "cell_type": "markdown",
   "id": "2fa430c6",
   "metadata": {},
   "source": [
    "For the 16 core case, the number of membufs needed to be increased (24570 -> 49140)"
   ]
  },
  {
   "cell_type": "markdown",
   "id": "c4f19b61",
   "metadata": {},
   "source": [
    "# Prox experiments"
   ]
  },
  {
   "cell_type": "code",
   "execution_count": 5,
   "id": "3d335a3c",
   "metadata": {},
   "outputs": [
    {
     "ename": "NameError",
     "evalue": "name 'Image' is not defined",
     "output_type": "error",
     "traceback": [
      "\u001b[0;31m---------------------------------------------------------------------------\u001b[0m",
      "\u001b[0;31mNameError\u001b[0m                                 Traceback (most recent call last)",
      "\u001b[0;32m/tmp/ipykernel_11357/4271268582.py\u001b[0m in \u001b[0;36m<module>\u001b[0;34m\u001b[0m\n\u001b[0;32m----> 1\u001b[0;31m \u001b[0mImage\u001b[0m\u001b[0;34m(\u001b[0m\u001b[0mfilename\u001b[0m\u001b[0;34m=\u001b[0m\u001b[0;34m'prox.png'\u001b[0m\u001b[0;34m)\u001b[0m\u001b[0;34m\u001b[0m\u001b[0;34m\u001b[0m\u001b[0m\n\u001b[0m",
      "\u001b[0;31mNameError\u001b[0m: name 'Image' is not defined"
     ]
    }
   ],
   "source": [
    "Image(filename='prox.png') "
   ]
  }
 ],
 "metadata": {
  "hide_input": false,
  "kernelspec": {
   "display_name": "Python 3 (ipykernel)",
   "language": "python",
   "name": "python3"
  },
  "language_info": {
   "codemirror_mode": {
    "name": "ipython",
    "version": 3
   },
   "file_extension": ".py",
   "mimetype": "text/x-python",
   "name": "python",
   "nbconvert_exporter": "python",
   "pygments_lexer": "ipython3",
   "version": "3.10.12"
  },
  "toc": {
   "base_numbering": 1,
   "nav_menu": {},
   "number_sections": true,
   "sideBar": true,
   "skip_h1_title": false,
   "title_cell": "Table of Contents",
   "title_sidebar": "Contents",
   "toc_cell": false,
   "toc_position": {},
   "toc_section_display": true,
   "toc_window_display": false
  },
  "widgets": {
   "application/vnd.jupyter.widget-state+json": {
    "state": {},
    "version_major": 1,
    "version_minor": 0
   }
  }
 },
 "nbformat": 4,
 "nbformat_minor": 5
}
