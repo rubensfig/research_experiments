{
 "cells": [
  {
   "cell_type": "code",
   "execution_count": 9,
   "id": "036d89a0",
   "metadata": {},
   "outputs": [],
   "source": [
    "import warnings\n",
    "warnings.simplefilter(action='ignore', category=FutureWarning)\n",
    "\n",
    "import pandas as pd\n",
    "import matplotlib.pyplot as plt\n",
    "import os\n",
    "import seaborn as sns"
   ]
  },
  {
   "cell_type": "code",
   "execution_count": 10,
   "id": "9e299cd3",
   "metadata": {},
   "outputs": [],
   "source": [
    "%config IPCompleter.greedy=True\n",
    "%matplotlib notebook\n",
    "%matplotlib inline\n",
    "plt.rcParams[\"figure.figsize\"] = [15, 10]"
   ]
  },
  {
   "cell_type": "code",
   "execution_count": 11,
   "id": "f86be1d0",
   "metadata": {
    "scrolled": false
   },
   "outputs": [],
   "source": [
    "output_dir = \"../output/\"\n",
    "\n",
    "measurements = list()\n",
    "\n",
    "for direc, sub_direc, files in os.walk(output_dir):\n",
    "    if files == []:\n",
    "        continue\n",
    "    \n",
    "    for file in files:\n",
    "        if 'ndr' in file:\n",
    "            t = pd.read_json(direc + '/' + files[0]).to_dict()\n",
    "            \n",
    "            label, flows, repeat = direc.replace(output_dir, '').split('/')\n",
    "\n",
    "            measurements.append(\n",
    "                {\n",
    "                    'cpu_util': t['results']['cpu_util'],\n",
    "                    'rate_tx_bps': t['results']['rate_tx_bps'],\n",
    "                    'rate_rx_bps': t['results']['rate_rx_bps'],\n",
    "                    'rx_pps': t['results']['rx_pps'],\n",
    "                    'tx_pps': t['results']['tx_pps'],\n",
    "                    'total_rx_L1': t['results']['total_rx_L1'],\n",
    "                    'total_tx_L1': t['results']['total_tx_L1'],\n",
    "                    'total_cores': t['config']['total_cores'],\n",
    "                    'label': 'label',\n",
    "                    'flows': int(flows),\n",
    "                    'repeat': int(repeat)\n",
    "                }\n",
    "            )\n",
    "measurements_df = pd.DataFrame(measurements)"
   ]
  },
  {
   "cell_type": "code",
   "execution_count": 12,
   "id": "fce66061",
   "metadata": {
    "scrolled": false
   },
   "outputs": [
    {
     "data": {
      "image/png": "[encoded data removed]",
      "text/plain": [
       "<Figure size 1080x720 with 2 Axes>"
      ]
     },
     "metadata": {
      "needs_background": "light"
     },
     "output_type": "display_data"
    }
   ],
   "source": [
    "fig, (ax1, ax2) = plt.subplots(nrows=1, ncols=2)\n",
    "\n",
    "sns.pointplot(\n",
    "    data = measurements_df,\n",
    "    x = 'flows',\n",
    "    y = 'cpu_util',\n",
    "    join=False,\n",
    "    ax = ax1\n",
    ")\n",
    "\n",
    "sns.pointplot(\n",
    "    data = measurements_df,\n",
    "    x = 'flows',\n",
    "    y = measurements_df['tx_pps']/1000000,\n",
    "    join=False,\n",
    "    ax = ax2\n",
    ")\n",
    "\n",
    "ax1.set(\n",
    "    ylim = [0, 110],\n",
    "    xlim = [-1, 20000],\n",
    "    xscale = 'symlog',\n",
    "    ylabel = 'CPU utilization',\n",
    "    xlabel = 'Flows'\n",
    "       )\n",
    "\n",
    "ax2.set(\n",
    "    ylim = [0, 110],\n",
    "    xlim = [-1, 20000],\n",
    "    xscale = 'symlog',\n",
    "    ylabel = 'Tx NDR (Kpps)'\n",
    "       )\n",
    "\n",
    "sns.despine()"
   ]
  }
 ],
 "metadata": {
  "kernelspec": {
   "display_name": "Python 3 (ipykernel)",
   "language": "python",
   "name": "python3"
  },
  "language_info": {
   "codemirror_mode": {
    "name": "ipython",
    "version": 3
   },
   "file_extension": ".py",
   "mimetype": "text/x-python",
   "name": "python",
   "nbconvert_exporter": "python",
   "pygments_lexer": "ipython3",
   "version": "3.10.12"
  }
 },
 "nbformat": 4,
 "nbformat_minor": 5
}
